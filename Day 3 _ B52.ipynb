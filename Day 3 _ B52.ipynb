{
 "cells": [
  {
   "cell_type": "code",
   "execution_count": 1,
   "id": "90458de4",
   "metadata": {},
   "outputs": [
    {
     "name": "stdout",
     "output_type": "stream",
     "text": [
      "rajesh robin\n"
     ]
    }
   ],
   "source": [
    "fullname = 'rajesh robin'\n",
    "print(fullname)"
   ]
  },
  {
   "cell_type": "code",
   "execution_count": 2,
   "id": "6d52e30e",
   "metadata": {},
   "outputs": [
    {
     "name": "stdout",
     "output_type": "stream",
     "text": [
      "Rajesh Robin\n"
     ]
    }
   ],
   "source": [
    "print(fullname.title())"
   ]
  },
  {
   "cell_type": "code",
   "execution_count": null,
   "id": "0a0a03c7",
   "metadata": {},
   "outputs": [],
   "source": [
    "#req: i want to have full name in capitals"
   ]
  },
  {
   "cell_type": "code",
   "execution_count": 3,
   "id": "99cf9eb2",
   "metadata": {},
   "outputs": [
    {
     "name": "stdout",
     "output_type": "stream",
     "text": [
      "RAJESH ROBIN\n"
     ]
    }
   ],
   "source": [
    "print(fullname.upper())"
   ]
  },
  {
   "cell_type": "code",
   "execution_count": null,
   "id": "ae3323bd",
   "metadata": {},
   "outputs": [],
   "source": [
    "#req: i want to have the name in small case letter"
   ]
  },
  {
   "cell_type": "code",
   "execution_count": 4,
   "id": "b09cac15",
   "metadata": {},
   "outputs": [
    {
     "name": "stdout",
     "output_type": "stream",
     "text": [
      "rajesh robin\n"
     ]
    }
   ],
   "source": [
    "print(fullname.lower())"
   ]
  },
  {
   "cell_type": "code",
   "execution_count": null,
   "id": "4387f045",
   "metadata": {},
   "outputs": [],
   "source": []
  },
  {
   "cell_type": "code",
   "execution_count": 11,
   "id": "390f2983",
   "metadata": {},
   "outputs": [],
   "source": [
    "firstname='sachin'\n",
    "lastname='jadhav'"
   ]
  },
  {
   "cell_type": "code",
   "execution_count": null,
   "id": "1466b445",
   "metadata": {},
   "outputs": [],
   "source": [
    "#req: I want to get full name."
   ]
  },
  {
   "cell_type": "code",
   "execution_count": null,
   "id": "3c513eec",
   "metadata": {},
   "outputs": [],
   "source": [
    "Introduction to f strings**"
   ]
  },
  {
   "cell_type": "code",
   "execution_count": null,
   "id": "61b4f6ea",
   "metadata": {},
   "outputs": [],
   "source": [
    "#general syntax of an f string"
   ]
  },
  {
   "cell_type": "code",
   "execution_count": null,
   "id": "0d04b859",
   "metadata": {},
   "outputs": [],
   "source": [
    "f\"custom words,{placeholder1}{placeholder2}....{placeholdern}"
   ]
  },
  {
   "cell_type": "code",
   "execution_count": null,
   "id": "1ca96dcf",
   "metadata": {},
   "outputs": [],
   "source": []
  },
  {
   "cell_type": "code",
   "execution_count": 12,
   "id": "3d2cb708",
   "metadata": {},
   "outputs": [
    {
     "name": "stdout",
     "output_type": "stream",
     "text": [
      "sachin jadhav\n"
     ]
    }
   ],
   "source": [
    "fullname = f\"{firstname} {lastname}\"\n",
    "print(fullname)"
   ]
  },
  {
   "cell_type": "code",
   "execution_count": 13,
   "id": "3d05c2cb",
   "metadata": {},
   "outputs": [
    {
     "name": "stdout",
     "output_type": "stream",
     "text": [
      "Sachin Jadhav\n"
     ]
    }
   ],
   "source": [
    "print(fullname.title())"
   ]
  },
  {
   "cell_type": "code",
   "execution_count": null,
   "id": "16396129",
   "metadata": {},
   "outputs": [],
   "source": [
    "#req: to appreciate sachin"
   ]
  },
  {
   "cell_type": "code",
   "execution_count": 16,
   "id": "f3ab28c1",
   "metadata": {},
   "outputs": [
    {
     "name": "stdout",
     "output_type": "stream",
     "text": [
      "keep up the good work Sachin Jadhav\n"
     ]
    }
   ],
   "source": [
    "message=f\"keep up the good work {fullname.title()}\"\n",
    "print(message)"
   ]
  },
  {
   "cell_type": "code",
   "execution_count": null,
   "id": "0746432c",
   "metadata": {},
   "outputs": [],
   "source": []
  },
  {
   "cell_type": "code",
   "execution_count": null,
   "id": "570ac255",
   "metadata": {},
   "outputs": [],
   "source": [
    "Adding whitespaces to strings"
   ]
  },
  {
   "cell_type": "code",
   "execution_count": null,
   "id": "61f72ef4",
   "metadata": {},
   "outputs": [],
   "source": [
    "# req: survey to choose favourite programming language"
   ]
  },
  {
   "cell_type": "code",
   "execution_count": 17,
   "id": "bf2f45bc",
   "metadata": {},
   "outputs": [
    {
     "name": "stdout",
     "output_type": "stream",
     "text": [
      "favourite_language:pythoncjavac++pascal\n"
     ]
    }
   ],
   "source": [
    "print(\"favourite_language:pythoncjavac++pascal\")"
   ]
  },
  {
   "cell_type": "code",
   "execution_count": 18,
   "id": "4176594c",
   "metadata": {},
   "outputs": [
    {
     "name": "stdout",
     "output_type": "stream",
     "text": [
      "favourite_language:\n",
      "python\n",
      "c\n",
      "java\n",
      "c++\n",
      "pascal\n"
     ]
    }
   ],
   "source": [
    "print(\"favourite_language:\\npython\\nc\\njava\\nc++\\npascal\")"
   ]
  },
  {
   "cell_type": "code",
   "execution_count": null,
   "id": "084869f7",
   "metadata": {},
   "outputs": [],
   "source": [
    "#\\n---> it is called a new line delimeter"
   ]
  },
  {
   "cell_type": "code",
   "execution_count": 19,
   "id": "9ffe5a1a",
   "metadata": {},
   "outputs": [
    {
     "name": "stdout",
     "output_type": "stream",
     "text": [
      "favourite_language:\n",
      "\tpython\n",
      "\tc\n",
      "\tjava\n",
      "\tc++\n",
      "\tpascal\n"
     ]
    }
   ],
   "source": [
    "print(\"favourite_language:\\n\\tpython\\n\\tc\\n\\tjava\\n\\tc++\\n\\tpascal\")"
   ]
  },
  {
   "cell_type": "code",
   "execution_count": null,
   "id": "8c64007d",
   "metadata": {},
   "outputs": [],
   "source": [
    "#\\t--->tab delimeter"
   ]
  },
  {
   "cell_type": "code",
   "execution_count": null,
   "id": "f1b20d30",
   "metadata": {},
   "outputs": [],
   "source": [
    "Removing whitespaces from strings"
   ]
  },
  {
   "cell_type": "code",
   "execution_count": 20,
   "id": "d961f79d",
   "metadata": {},
   "outputs": [
    {
     "name": "stdout",
     "output_type": "stream",
     "text": [
      "seetharam\n"
     ]
    }
   ],
   "source": [
    "name='seetharam'\n",
    "print(name)"
   ]
  },
  {
   "cell_type": "code",
   "execution_count": 22,
   "id": "68c40aa4",
   "metadata": {},
   "outputs": [
    {
     "name": "stdout",
     "output_type": "stream",
     "text": [
      "    seetharam\n"
     ]
    }
   ],
   "source": [
    "name1='    seetharam' #leftside gap\n",
    "print(name1)"
   ]
  },
  {
   "cell_type": "code",
   "execution_count": 23,
   "id": "369f161f",
   "metadata": {},
   "outputs": [
    {
     "name": "stdout",
     "output_type": "stream",
     "text": [
      "seetharam     \n"
     ]
    }
   ],
   "source": [
    "name2='seetharam     '#rightside gap\n",
    "print(name2)"
   ]
  },
  {
   "cell_type": "code",
   "execution_count": 24,
   "id": "d2f83b95",
   "metadata": {},
   "outputs": [
    {
     "name": "stdout",
     "output_type": "stream",
     "text": [
      "seetharam\n"
     ]
    }
   ],
   "source": [
    "print(name1.lstrip()) #only leftside check"
   ]
  },
  {
   "cell_type": "code",
   "execution_count": 25,
   "id": "3688226b",
   "metadata": {},
   "outputs": [
    {
     "name": "stdout",
     "output_type": "stream",
     "text": [
      "seetharam\n"
     ]
    }
   ],
   "source": [
    "print(name2.rstrip()) #only rightside check"
   ]
  },
  {
   "cell_type": "code",
   "execution_count": 26,
   "id": "756a80a6",
   "metadata": {},
   "outputs": [
    {
     "name": "stdout",
     "output_type": "stream",
     "text": [
      "   naveen   \n"
     ]
    }
   ],
   "source": [
    "name3='   naveen   '\n",
    "print(name3)"
   ]
  },
  {
   "cell_type": "code",
   "execution_count": 27,
   "id": "d49e6e3c",
   "metadata": {},
   "outputs": [
    {
     "name": "stdout",
     "output_type": "stream",
     "text": [
      "naveen\n"
     ]
    }
   ],
   "source": [
    "print(name3.strip()) #check on both side and eliminate gap"
   ]
  },
  {
   "cell_type": "code",
   "execution_count": null,
   "id": "0e084b92",
   "metadata": {},
   "outputs": [],
   "source": []
  }
 ],
 "metadata": {
  "kernelspec": {
   "display_name": "Python 3",
   "language": "python",
   "name": "python3"
  },
  "language_info": {
   "codemirror_mode": {
    "name": "ipython",
    "version": 3
   },
   "file_extension": ".py",
   "mimetype": "text/x-python",
   "name": "python",
   "nbconvert_exporter": "python",
   "pygments_lexer": "ipython3",
   "version": "3.8.8"
  }
 },
 "nbformat": 4,
 "nbformat_minor": 5
}
