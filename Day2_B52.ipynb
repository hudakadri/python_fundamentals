{
 "cells": [
  {
   "cell_type": "code",
   "execution_count": null,
   "id": "a0b340df",
   "metadata": {},
   "outputs": [],
   "source": [
    "Understanding the variables in Python"
   ]
  },
  {
   "cell_type": "code",
   "execution_count": 1,
   "id": "d8f74265",
   "metadata": {},
   "outputs": [],
   "source": [
    "x=5\n",
    "y=3"
   ]
  },
  {
   "cell_type": "code",
   "execution_count": 2,
   "id": "fcfe14b3",
   "metadata": {},
   "outputs": [
    {
     "name": "stdout",
     "output_type": "stream",
     "text": [
      "8\n"
     ]
    }
   ],
   "source": [
    "z=x+y\n",
    "print(z)"
   ]
  },
  {
   "cell_type": "code",
   "execution_count": null,
   "id": "a9cea4f9",
   "metadata": {},
   "outputs": [],
   "source": [
    "Rules for declaring variables in python"
   ]
  },
  {
   "cell_type": "code",
   "execution_count": null,
   "id": "3231fe63",
   "metadata": {},
   "outputs": [],
   "source": [
    "Rule no. 1: No namespaces while declaring variable names."
   ]
  },
  {
   "cell_type": "code",
   "execution_count": null,
   "id": "084978fd",
   "metadata": {},
   "outputs": [],
   "source": [
    "Rule no. 2: A variable name should not start with a number**"
   ]
  },
  {
   "cell_type": "code",
   "execution_count": null,
   "id": "292ab814",
   "metadata": {},
   "outputs": [],
   "source": [
    "Rule no. 3: A variable name should not contain any special character"
   ]
  },
  {
   "cell_type": "code",
   "execution_count": null,
   "id": "e1a5c7fc",
   "metadata": {},
   "outputs": [],
   "source": []
  },
  {
   "cell_type": "code",
   "execution_count": null,
   "id": "d83193a2",
   "metadata": {},
   "outputs": [],
   "source": [
    "Introduction to data types in python"
   ]
  },
  {
   "cell_type": "code",
   "execution_count": null,
   "id": "0d4682ae",
   "metadata": {},
   "outputs": [],
   "source": [
    "1. string ---> str\n",
    "2. numbers ---> integers (int) and floats (decimal)\n",
    "3. list ---> list\n",
    "4. tuple ---> tuple\n",
    "5. Dictionaries ---> dict"
   ]
  },
  {
   "cell_type": "code",
   "execution_count": null,
   "id": "36e4a6d0",
   "metadata": {},
   "outputs": [],
   "source": []
  },
  {
   "cell_type": "code",
   "execution_count": null,
   "id": "8d11c6db",
   "metadata": {},
   "outputs": [],
   "source": [
    "Classification of data types "
   ]
  },
  {
   "cell_type": "code",
   "execution_count": null,
   "id": "b4c7f7c0",
   "metadata": {},
   "outputs": [],
   "source": [
    "1. mutuable data type ---> we can be able to change or edit the date (flexible)\n",
    "2. Immutable data type ---> we will not be able to change or edit the data(fixed)"
   ]
  },
  {
   "cell_type": "code",
   "execution_count": null,
   "id": "5a839c15",
   "metadata": {},
   "outputs": [],
   "source": []
  },
  {
   "cell_type": "code",
   "execution_count": null,
   "id": "ad94b9cf",
   "metadata": {},
   "outputs": [],
   "source": [
    "Introduction to string data type"
   ]
  },
  {
   "cell_type": "code",
   "execution_count": null,
   "id": "c3a62018",
   "metadata": {},
   "outputs": [],
   "source": [
    "Definition-A sting is a series of character enclosed in quotes"
   ]
  },
  {
   "cell_type": "code",
   "execution_count": null,
   "id": "d79e7b2a",
   "metadata": {},
   "outputs": [],
   "source": [
    "Classification - It is classified as an immutable data type"
   ]
  },
  {
   "cell_type": "code",
   "execution_count": null,
   "id": "cb8f586a",
   "metadata": {},
   "outputs": [],
   "source": [
    "How to declare a string---> 3 possible ways\n",
    "1.single quote\n",
    "2.double quote\n",
    "3.triple quote"
   ]
  },
  {
   "cell_type": "code",
   "execution_count": 22,
   "id": "dd05d5a7",
   "metadata": {},
   "outputs": [],
   "source": [
    "name='huda' #singlequote"
   ]
  },
  {
   "cell_type": "code",
   "execution_count": 23,
   "id": "2bd03b0c",
   "metadata": {},
   "outputs": [],
   "source": [
    "name1 =\"ayesha\" #doublequote"
   ]
  },
  {
   "cell_type": "code",
   "execution_count": 24,
   "id": "78d5860e",
   "metadata": {},
   "outputs": [],
   "source": [
    "name2=\"\"\"syeed\"\"\" #tripequote"
   ]
  },
  {
   "cell_type": "code",
   "execution_count": null,
   "id": "a50661bb",
   "metadata": {},
   "outputs": [],
   "source": []
  },
  {
   "cell_type": "code",
   "execution_count": null,
   "id": "00adc679",
   "metadata": {},
   "outputs": [],
   "source": [
    "# is used for commenting the lines in pyton"
   ]
  },
  {
   "cell_type": "code",
   "execution_count": null,
   "id": "bf1af8af",
   "metadata": {},
   "outputs": [],
   "source": []
  },
  {
   "cell_type": "code",
   "execution_count": null,
   "id": "30fd7547",
   "metadata": {},
   "outputs": [],
   "source": [
    "Introduction to string methods"
   ]
  },
  {
   "cell_type": "code",
   "execution_count": null,
   "id": "b4b014cd",
   "metadata": {},
   "outputs": [],
   "source": [
    "methods are built in program that are readily avaible to use in python "
   ]
  },
  {
   "cell_type": "code",
   "execution_count": 25,
   "id": "a857d9ff",
   "metadata": {},
   "outputs": [],
   "source": [
    "type=(name)"
   ]
  },
  {
   "cell_type": "code",
   "execution_count": 26,
   "id": "3eeb8373",
   "metadata": {},
   "outputs": [],
   "source": [
    "type=(name1)"
   ]
  },
  {
   "cell_type": "code",
   "execution_count": 27,
   "id": "e9a70387",
   "metadata": {},
   "outputs": [],
   "source": [
    "type=(name2)"
   ]
  },
  {
   "cell_type": "code",
   "execution_count": null,
   "id": "41f33f8e",
   "metadata": {},
   "outputs": [],
   "source": [
    "Type method will be helping us to validate the data type"
   ]
  },
  {
   "cell_type": "code",
   "execution_count": null,
   "id": "c783bd13",
   "metadata": {},
   "outputs": [],
   "source": [
    "Note-python is a case sensitive language"
   ]
  }
 ],
 "metadata": {
  "kernelspec": {
   "display_name": "Python 3",
   "language": "python",
   "name": "python3"
  },
  "language_info": {
   "codemirror_mode": {
    "name": "ipython",
    "version": 3
   },
   "file_extension": ".py",
   "mimetype": "text/x-python",
   "name": "python",
   "nbconvert_exporter": "python",
   "pygments_lexer": "ipython3",
   "version": "3.8.8"
  }
 },
 "nbformat": 4,
 "nbformat_minor": 5
}
